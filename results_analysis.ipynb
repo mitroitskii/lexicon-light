{
 "cells": [
  {
   "cell_type": "markdown",
   "metadata": {},
   "source": [
    "## Assessing F1 for the linear probe run across layers"
   ]
  },
  {
   "cell_type": "code",
   "execution_count": 2,
   "metadata": {},
   "outputs": [],
   "source": [
    "import pandas as pd\n",
    "\n",
    "# load csv as pd dataframe\n",
    "df = pd.read_csv('logs/EleutherAI/gpt-j-6b/LAYER0-TGTIDX-1-train_tiny_1000-bsz6-lr2.18697-epochs14-rmnxomfa/test_tiny_500_results.csv')"
   ]
  },
  {
   "cell_type": "code",
   "execution_count": 3,
   "metadata": {},
   "outputs": [
    {
     "name": "stdout",
     "output_type": "stream",
     "text": [
      "Index(['Unnamed: 0', 'doc_id', 'current_tok_id', 'actual_tok_id',\n",
      "       'predicted_tok_id', 'current_tok', 'actual_tok', 'predicted_tok',\n",
      "       'sourcehs_logitlens_tok_id', 'sourcehs_logitlens_tok', 'top_1_prob',\n",
      "       'top_1_tok_id', 'top_1_tok', 'top_2_prob', 'top_2_tok_id', 'top_2_tok',\n",
      "       'top_3_prob', 'top_3_tok_id', 'top_3_tok', 'top_4_prob', 'top_4_tok_id',\n",
      "       'top_4_tok', 'top_5_prob', 'top_5_tok_id', 'top_5_tok'],\n",
      "      dtype='object')\n"
     ]
    }
   ],
   "source": [
    "# show the names of the columns of the dataframe\n",
    "print(df.columns)"
   ]
  },
  {
   "cell_type": "code",
   "execution_count": 4,
   "metadata": {},
   "outputs": [],
   "source": [
    "# only leave actual_tok_id and predicted_tok_id columns\n",
    "df = df[['actual_tok_id', 'predicted_tok_id']]"
   ]
  },
  {
   "cell_type": "code",
   "execution_count": 5,
   "metadata": {},
   "outputs": [
    {
     "name": "stdout",
     "output_type": "stream",
     "text": [
      "   actual_tok_id  predicted_tok_id\n",
      "0          50256             50256\n",
      "1          21793             21793\n",
      "2            784             21793\n",
      "3           3845               851\n",
      "4          22351             22351\n"
     ]
    }
   ],
   "source": [
    "print(df.head())"
   ]
  },
  {
   "cell_type": "code",
   "execution_count": 10,
   "metadata": {},
   "outputs": [],
   "source": [
    "from sklearn.metrics import precision_score, recall_score\n",
    "\n",
    "def get_metrics(df):\n",
    "    labels = list(range(50400))\n",
    "\n",
    "    # true_labels should be a list or array of the true class labels\n",
    "    # predictions should be a list or array of the same length, with your model's predicted class labels\n",
    "    true_labels, predictions = df['actual_tok_id'], df['predicted_tok_id']\n",
    "    precision = precision_score(true_labels, predictions, labels=labels, average='weighted')  # for macro average\n",
    "    recall = recall_score(true_labels, predictions, labels=labels, average='weighted')  # for macro average\n",
    "    f1 = 2 * (precision * recall) / (precision + recall)\n",
    "\n",
    "    return precision, recall, f1\n"
   ]
  },
  {
   "cell_type": "code",
   "execution_count": 9,
   "metadata": {},
   "outputs": [
    {
     "name": "stderr",
     "output_type": "stream",
     "text": [
      "/share/u/troitskiid/.conda/envs/troitskiid/lib/python3.11/site-packages/sklearn/metrics/_classification.py:1344: UndefinedMetricWarning: Precision is ill-defined and being set to 0.0 in labels with no predicted samples. Use `zero_division` parameter to control this behavior.\n",
      "  _warn_prf(average, modifier, msg_start, len(result))\n",
      "/share/u/troitskiid/.conda/envs/troitskiid/lib/python3.11/site-packages/sklearn/metrics/_classification.py:1344: UndefinedMetricWarning: Recall is ill-defined and being set to 0.0 in labels with no true samples. Use `zero_division` parameter to control this behavior.\n",
      "  _warn_prf(average, modifier, msg_start, len(result))\n"
     ]
    },
    {
     "name": "stdout",
     "output_type": "stream",
     "text": [
      "precision: 0.742693120176879\n",
      "recall: 0.755411413162306\n",
      "f1: 0.748998280124307\n"
     ]
    },
    {
     "name": "stderr",
     "output_type": "stream",
     "text": [
      "/share/u/troitskiid/.conda/envs/troitskiid/lib/python3.11/site-packages/sklearn/metrics/_classification.py:1344: UndefinedMetricWarning: Precision is ill-defined and being set to 0.0 in labels with no predicted samples. Use `zero_division` parameter to control this behavior.\n",
      "  _warn_prf(average, modifier, msg_start, len(result))\n",
      "/share/u/troitskiid/.conda/envs/troitskiid/lib/python3.11/site-packages/sklearn/metrics/_classification.py:1344: UndefinedMetricWarning: Recall is ill-defined and being set to 0.0 in labels with no true samples. Use `zero_division` parameter to control this behavior.\n",
      "  _warn_prf(average, modifier, msg_start, len(result))\n"
     ]
    },
    {
     "name": "stdout",
     "output_type": "stream",
     "text": [
      "precision: 0.7119709452339561\n",
      "recall: 0.7274170169002907\n",
      "f1: 0.7196111051725772\n"
     ]
    },
    {
     "name": "stderr",
     "output_type": "stream",
     "text": [
      "/share/u/troitskiid/.conda/envs/troitskiid/lib/python3.11/site-packages/sklearn/metrics/_classification.py:1344: UndefinedMetricWarning: Precision is ill-defined and being set to 0.0 in labels with no predicted samples. Use `zero_division` parameter to control this behavior.\n",
      "  _warn_prf(average, modifier, msg_start, len(result))\n",
      "/share/u/troitskiid/.conda/envs/troitskiid/lib/python3.11/site-packages/sklearn/metrics/_classification.py:1344: UndefinedMetricWarning: Recall is ill-defined and being set to 0.0 in labels with no true samples. Use `zero_division` parameter to control this behavior.\n",
      "  _warn_prf(average, modifier, msg_start, len(result))\n"
     ]
    },
    {
     "name": "stdout",
     "output_type": "stream",
     "text": [
      "precision: 0.7139205105967168\n",
      "recall: 0.7369158386576942\n",
      "f1: 0.725235940044751\n"
     ]
    },
    {
     "name": "stderr",
     "output_type": "stream",
     "text": [
      "/share/u/troitskiid/.conda/envs/troitskiid/lib/python3.11/site-packages/sklearn/metrics/_classification.py:1344: UndefinedMetricWarning: Precision is ill-defined and being set to 0.0 in labels with no predicted samples. Use `zero_division` parameter to control this behavior.\n",
      "  _warn_prf(average, modifier, msg_start, len(result))\n",
      "/share/u/troitskiid/.conda/envs/troitskiid/lib/python3.11/site-packages/sklearn/metrics/_classification.py:1344: UndefinedMetricWarning: Recall is ill-defined and being set to 0.0 in labels with no true samples. Use `zero_division` parameter to control this behavior.\n",
      "  _warn_prf(average, modifier, msg_start, len(result))\n"
     ]
    },
    {
     "name": "stdout",
     "output_type": "stream",
     "text": [
      "precision: 0.6708095544966546\n",
      "recall: 0.7001838220408295\n",
      "f1: 0.6851820085596628\n"
     ]
    },
    {
     "name": "stderr",
     "output_type": "stream",
     "text": [
      "/share/u/troitskiid/.conda/envs/troitskiid/lib/python3.11/site-packages/sklearn/metrics/_classification.py:1344: UndefinedMetricWarning: Precision is ill-defined and being set to 0.0 in labels with no predicted samples. Use `zero_division` parameter to control this behavior.\n",
      "  _warn_prf(average, modifier, msg_start, len(result))\n",
      "/share/u/troitskiid/.conda/envs/troitskiid/lib/python3.11/site-packages/sklearn/metrics/_classification.py:1344: UndefinedMetricWarning: Recall is ill-defined and being set to 0.0 in labels with no true samples. Use `zero_division` parameter to control this behavior.\n",
      "  _warn_prf(average, modifier, msg_start, len(result))\n"
     ]
    },
    {
     "name": "stdout",
     "output_type": "stream",
     "text": [
      "precision: 0.6259589663338546\n",
      "recall: 0.6579735846917539\n",
      "f1: 0.6415671362481352\n"
     ]
    },
    {
     "name": "stderr",
     "output_type": "stream",
     "text": [
      "/share/u/troitskiid/.conda/envs/troitskiid/lib/python3.11/site-packages/sklearn/metrics/_classification.py:1344: UndefinedMetricWarning: Precision is ill-defined and being set to 0.0 in labels with no predicted samples. Use `zero_division` parameter to control this behavior.\n",
      "  _warn_prf(average, modifier, msg_start, len(result))\n",
      "/share/u/troitskiid/.conda/envs/troitskiid/lib/python3.11/site-packages/sklearn/metrics/_classification.py:1344: UndefinedMetricWarning: Recall is ill-defined and being set to 0.0 in labels with no true samples. Use `zero_division` parameter to control this behavior.\n",
      "  _warn_prf(average, modifier, msg_start, len(result))\n"
     ]
    },
    {
     "name": "stdout",
     "output_type": "stream",
     "text": [
      "precision: 0.5920070652223061\n",
      "recall: 0.6319388771469524\n",
      "f1: 0.6113215741137347\n"
     ]
    },
    {
     "name": "stderr",
     "output_type": "stream",
     "text": [
      "/share/u/troitskiid/.conda/envs/troitskiid/lib/python3.11/site-packages/sklearn/metrics/_classification.py:1344: UndefinedMetricWarning: Precision is ill-defined and being set to 0.0 in labels with no predicted samples. Use `zero_division` parameter to control this behavior.\n",
      "  _warn_prf(average, modifier, msg_start, len(result))\n",
      "/share/u/troitskiid/.conda/envs/troitskiid/lib/python3.11/site-packages/sklearn/metrics/_classification.py:1344: UndefinedMetricWarning: Recall is ill-defined and being set to 0.0 in labels with no true samples. Use `zero_division` parameter to control this behavior.\n",
      "  _warn_prf(average, modifier, msg_start, len(result))\n"
     ]
    },
    {
     "name": "stdout",
     "output_type": "stream",
     "text": [
      "precision: 0.5531907784151132\n",
      "recall: 0.5990978953591009\n",
      "f1: 0.575229868388859\n"
     ]
    },
    {
     "name": "stderr",
     "output_type": "stream",
     "text": [
      "/share/u/troitskiid/.conda/envs/troitskiid/lib/python3.11/site-packages/sklearn/metrics/_classification.py:1344: UndefinedMetricWarning: Precision is ill-defined and being set to 0.0 in labels with no predicted samples. Use `zero_division` parameter to control this behavior.\n",
      "  _warn_prf(average, modifier, msg_start, len(result))\n",
      "/share/u/troitskiid/.conda/envs/troitskiid/lib/python3.11/site-packages/sklearn/metrics/_classification.py:1344: UndefinedMetricWarning: Recall is ill-defined and being set to 0.0 in labels with no true samples. Use `zero_division` parameter to control this behavior.\n",
      "  _warn_prf(average, modifier, msg_start, len(result))\n"
     ]
    },
    {
     "name": "stdout",
     "output_type": "stream",
     "text": [
      "precision: 0.5277451497401192\n",
      "recall: 0.5758164694831118\n",
      "f1: 0.5507338124428215\n"
     ]
    },
    {
     "name": "stderr",
     "output_type": "stream",
     "text": [
      "/share/u/troitskiid/.conda/envs/troitskiid/lib/python3.11/site-packages/sklearn/metrics/_classification.py:1344: UndefinedMetricWarning: Precision is ill-defined and being set to 0.0 in labels with no predicted samples. Use `zero_division` parameter to control this behavior.\n",
      "  _warn_prf(average, modifier, msg_start, len(result))\n",
      "/share/u/troitskiid/.conda/envs/troitskiid/lib/python3.11/site-packages/sklearn/metrics/_classification.py:1344: UndefinedMetricWarning: Recall is ill-defined and being set to 0.0 in labels with no true samples. Use `zero_division` parameter to control this behavior.\n",
      "  _warn_prf(average, modifier, msg_start, len(result))\n"
     ]
    },
    {
     "name": "stdout",
     "output_type": "stream",
     "text": [
      "precision: 0.5030584672909469\n",
      "recall: 0.5554138425284844\n",
      "f1: 0.5279413240053857\n"
     ]
    },
    {
     "name": "stderr",
     "output_type": "stream",
     "text": [
      "/share/u/troitskiid/.conda/envs/troitskiid/lib/python3.11/site-packages/sklearn/metrics/_classification.py:1344: UndefinedMetricWarning: Precision is ill-defined and being set to 0.0 in labels with no predicted samples. Use `zero_division` parameter to control this behavior.\n",
      "  _warn_prf(average, modifier, msg_start, len(result))\n",
      "/share/u/troitskiid/.conda/envs/troitskiid/lib/python3.11/site-packages/sklearn/metrics/_classification.py:1344: UndefinedMetricWarning: Recall is ill-defined and being set to 0.0 in labels with no true samples. Use `zero_division` parameter to control this behavior.\n",
      "  _warn_prf(average, modifier, msg_start, len(result))\n"
     ]
    },
    {
     "name": "stdout",
     "output_type": "stream",
     "text": [
      "precision: 0.4841484007604866\n",
      "recall: 0.5390520613172023\n",
      "f1: 0.5101272000667874\n"
     ]
    },
    {
     "name": "stderr",
     "output_type": "stream",
     "text": [
      "/share/u/troitskiid/.conda/envs/troitskiid/lib/python3.11/site-packages/sklearn/metrics/_classification.py:1344: UndefinedMetricWarning: Precision is ill-defined and being set to 0.0 in labels with no predicted samples. Use `zero_division` parameter to control this behavior.\n",
      "  _warn_prf(average, modifier, msg_start, len(result))\n",
      "/share/u/troitskiid/.conda/envs/troitskiid/lib/python3.11/site-packages/sklearn/metrics/_classification.py:1344: UndefinedMetricWarning: Recall is ill-defined and being set to 0.0 in labels with no true samples. Use `zero_division` parameter to control this behavior.\n",
      "  _warn_prf(average, modifier, msg_start, len(result))\n"
     ]
    },
    {
     "name": "stdout",
     "output_type": "stream",
     "text": [
      "precision: 0.46867709204190106\n",
      "recall: 0.5252977998040311\n",
      "f1: 0.4953747771454225\n"
     ]
    },
    {
     "name": "stderr",
     "output_type": "stream",
     "text": [
      "/share/u/troitskiid/.conda/envs/troitskiid/lib/python3.11/site-packages/sklearn/metrics/_classification.py:1344: UndefinedMetricWarning: Precision is ill-defined and being set to 0.0 in labels with no predicted samples. Use `zero_division` parameter to control this behavior.\n",
      "  _warn_prf(average, modifier, msg_start, len(result))\n",
      "/share/u/troitskiid/.conda/envs/troitskiid/lib/python3.11/site-packages/sklearn/metrics/_classification.py:1344: UndefinedMetricWarning: Recall is ill-defined and being set to 0.0 in labels with no true samples. Use `zero_division` parameter to control this behavior.\n",
      "  _warn_prf(average, modifier, msg_start, len(result))\n"
     ]
    },
    {
     "name": "stdout",
     "output_type": "stream",
     "text": [
      "precision: 0.45442237005388975\n",
      "recall: 0.5142968199596725\n",
      "f1: 0.4825092395123938\n"
     ]
    },
    {
     "name": "stderr",
     "output_type": "stream",
     "text": [
      "/share/u/troitskiid/.conda/envs/troitskiid/lib/python3.11/site-packages/sklearn/metrics/_classification.py:1344: UndefinedMetricWarning: Precision is ill-defined and being set to 0.0 in labels with no predicted samples. Use `zero_division` parameter to control this behavior.\n",
      "  _warn_prf(average, modifier, msg_start, len(result))\n",
      "/share/u/troitskiid/.conda/envs/troitskiid/lib/python3.11/site-packages/sklearn/metrics/_classification.py:1344: UndefinedMetricWarning: Recall is ill-defined and being set to 0.0 in labels with no true samples. Use `zero_division` parameter to control this behavior.\n",
      "  _warn_prf(average, modifier, msg_start, len(result))\n"
     ]
    },
    {
     "name": "stdout",
     "output_type": "stream",
     "text": [
      "precision: 0.4504715825011571\n",
      "recall: 0.5108147284373507\n",
      "f1: 0.47874918526493376\n"
     ]
    },
    {
     "name": "stderr",
     "output_type": "stream",
     "text": [
      "/share/u/troitskiid/.conda/envs/troitskiid/lib/python3.11/site-packages/sklearn/metrics/_classification.py:1344: UndefinedMetricWarning: Precision is ill-defined and being set to 0.0 in labels with no predicted samples. Use `zero_division` parameter to control this behavior.\n",
      "  _warn_prf(average, modifier, msg_start, len(result))\n",
      "/share/u/troitskiid/.conda/envs/troitskiid/lib/python3.11/site-packages/sklearn/metrics/_classification.py:1344: UndefinedMetricWarning: Recall is ill-defined and being set to 0.0 in labels with no true samples. Use `zero_division` parameter to control this behavior.\n",
      "  _warn_prf(average, modifier, msg_start, len(result))\n"
     ]
    },
    {
     "name": "stdout",
     "output_type": "stream",
     "text": [
      "precision: 0.43862612010831353\n",
      "recall: 0.4986112123347019\n",
      "f1: 0.4666990823739303\n"
     ]
    },
    {
     "name": "stderr",
     "output_type": "stream",
     "text": [
      "/share/u/troitskiid/.conda/envs/troitskiid/lib/python3.11/site-packages/sklearn/metrics/_classification.py:1344: UndefinedMetricWarning: Precision is ill-defined and being set to 0.0 in labels with no predicted samples. Use `zero_division` parameter to control this behavior.\n",
      "  _warn_prf(average, modifier, msg_start, len(result))\n",
      "/share/u/troitskiid/.conda/envs/troitskiid/lib/python3.11/site-packages/sklearn/metrics/_classification.py:1344: UndefinedMetricWarning: Recall is ill-defined and being set to 0.0 in labels with no true samples. Use `zero_division` parameter to control this behavior.\n",
      "  _warn_prf(average, modifier, msg_start, len(result))\n"
     ]
    },
    {
     "name": "stdout",
     "output_type": "stream",
     "text": [
      "precision: 0.4247075262089816\n",
      "recall: 0.48731061066167836\n",
      "f1: 0.4538604564590161\n"
     ]
    },
    {
     "name": "stderr",
     "output_type": "stream",
     "text": [
      "/share/u/troitskiid/.conda/envs/troitskiid/lib/python3.11/site-packages/sklearn/metrics/_classification.py:1344: UndefinedMetricWarning: Precision is ill-defined and being set to 0.0 in labels with no predicted samples. Use `zero_division` parameter to control this behavior.\n",
      "  _warn_prf(average, modifier, msg_start, len(result))\n",
      "/share/u/troitskiid/.conda/envs/troitskiid/lib/python3.11/site-packages/sklearn/metrics/_classification.py:1344: UndefinedMetricWarning: Recall is ill-defined and being set to 0.0 in labels with no true samples. Use `zero_division` parameter to control this behavior.\n",
      "  _warn_prf(average, modifier, msg_start, len(result))\n"
     ]
    },
    {
     "name": "stdout",
     "output_type": "stream",
     "text": [
      "precision: 0.4141004085654245\n",
      "recall: 0.47797779559312975\n",
      "f1: 0.4437521273754529\n"
     ]
    },
    {
     "name": "stderr",
     "output_type": "stream",
     "text": [
      "/share/u/troitskiid/.conda/envs/troitskiid/lib/python3.11/site-packages/sklearn/metrics/_classification.py:1344: UndefinedMetricWarning: Precision is ill-defined and being set to 0.0 in labels with no predicted samples. Use `zero_division` parameter to control this behavior.\n",
      "  _warn_prf(average, modifier, msg_start, len(result))\n",
      "/share/u/troitskiid/.conda/envs/troitskiid/lib/python3.11/site-packages/sklearn/metrics/_classification.py:1344: UndefinedMetricWarning: Recall is ill-defined and being set to 0.0 in labels with no true samples. Use `zero_division` parameter to control this behavior.\n",
      "  _warn_prf(average, modifier, msg_start, len(result))\n"
     ]
    },
    {
     "name": "stdout",
     "output_type": "stream",
     "text": [
      "precision: 0.39732650097352035\n",
      "recall: 0.4633246685939638\n",
      "f1: 0.4277950832964525\n"
     ]
    },
    {
     "name": "stderr",
     "output_type": "stream",
     "text": [
      "/share/u/troitskiid/.conda/envs/troitskiid/lib/python3.11/site-packages/sklearn/metrics/_classification.py:1344: UndefinedMetricWarning: Precision is ill-defined and being set to 0.0 in labels with no predicted samples. Use `zero_division` parameter to control this behavior.\n",
      "  _warn_prf(average, modifier, msg_start, len(result))\n",
      "/share/u/troitskiid/.conda/envs/troitskiid/lib/python3.11/site-packages/sklearn/metrics/_classification.py:1344: UndefinedMetricWarning: Recall is ill-defined and being set to 0.0 in labels with no true samples. Use `zero_division` parameter to control this behavior.\n",
      "  _warn_prf(average, modifier, msg_start, len(result))\n"
     ]
    },
    {
     "name": "stdout",
     "output_type": "stream",
     "text": [
      "precision: 0.3892718766984151\n",
      "recall: 0.4537975042311461\n",
      "f1: 0.4190654057874614\n"
     ]
    },
    {
     "name": "stderr",
     "output_type": "stream",
     "text": [
      "/share/u/troitskiid/.conda/envs/troitskiid/lib/python3.11/site-packages/sklearn/metrics/_classification.py:1344: UndefinedMetricWarning: Precision is ill-defined and being set to 0.0 in labels with no predicted samples. Use `zero_division` parameter to control this behavior.\n",
      "  _warn_prf(average, modifier, msg_start, len(result))\n",
      "/share/u/troitskiid/.conda/envs/troitskiid/lib/python3.11/site-packages/sklearn/metrics/_classification.py:1344: UndefinedMetricWarning: Recall is ill-defined and being set to 0.0 in labels with no true samples. Use `zero_division` parameter to control this behavior.\n",
      "  _warn_prf(average, modifier, msg_start, len(result))\n"
     ]
    },
    {
     "name": "stdout",
     "output_type": "stream",
     "text": [
      "precision: 0.3768131211857037\n",
      "recall: 0.44109191911830203\n",
      "f1: 0.40642669890133293\n"
     ]
    },
    {
     "name": "stderr",
     "output_type": "stream",
     "text": [
      "/share/u/troitskiid/.conda/envs/troitskiid/lib/python3.11/site-packages/sklearn/metrics/_classification.py:1344: UndefinedMetricWarning: Precision is ill-defined and being set to 0.0 in labels with no predicted samples. Use `zero_division` parameter to control this behavior.\n",
      "  _warn_prf(average, modifier, msg_start, len(result))\n",
      "/share/u/troitskiid/.conda/envs/troitskiid/lib/python3.11/site-packages/sklearn/metrics/_classification.py:1344: UndefinedMetricWarning: Recall is ill-defined and being set to 0.0 in labels with no true samples. Use `zero_division` parameter to control this behavior.\n",
      "  _warn_prf(average, modifier, msg_start, len(result))\n"
     ]
    },
    {
     "name": "stdout",
     "output_type": "stream",
     "text": [
      "precision: 0.3311870937332778\n",
      "recall: 0.3984727384625351\n",
      "f1: 0.36172754031479165\n"
     ]
    },
    {
     "name": "stderr",
     "output_type": "stream",
     "text": [
      "/share/u/troitskiid/.conda/envs/troitskiid/lib/python3.11/site-packages/sklearn/metrics/_classification.py:1344: UndefinedMetricWarning: Precision is ill-defined and being set to 0.0 in labels with no predicted samples. Use `zero_division` parameter to control this behavior.\n",
      "  _warn_prf(average, modifier, msg_start, len(result))\n",
      "/share/u/troitskiid/.conda/envs/troitskiid/lib/python3.11/site-packages/sklearn/metrics/_classification.py:1344: UndefinedMetricWarning: Recall is ill-defined and being set to 0.0 in labels with no true samples. Use `zero_division` parameter to control this behavior.\n",
      "  _warn_prf(average, modifier, msg_start, len(result))\n"
     ]
    },
    {
     "name": "stdout",
     "output_type": "stream",
     "text": [
      "precision: 0.3582668794469466\n",
      "recall: 0.4249811724121177\n",
      "f1: 0.38878278242099185\n"
     ]
    },
    {
     "name": "stderr",
     "output_type": "stream",
     "text": [
      "/share/u/troitskiid/.conda/envs/troitskiid/lib/python3.11/site-packages/sklearn/metrics/_classification.py:1344: UndefinedMetricWarning: Precision is ill-defined and being set to 0.0 in labels with no predicted samples. Use `zero_division` parameter to control this behavior.\n",
      "  _warn_prf(average, modifier, msg_start, len(result))\n",
      "/share/u/troitskiid/.conda/envs/troitskiid/lib/python3.11/site-packages/sklearn/metrics/_classification.py:1344: UndefinedMetricWarning: Recall is ill-defined and being set to 0.0 in labels with no true samples. Use `zero_division` parameter to control this behavior.\n",
      "  _warn_prf(average, modifier, msg_start, len(result))\n"
     ]
    },
    {
     "name": "stdout",
     "output_type": "stream",
     "text": [
      "precision: 0.34635066292919076\n",
      "recall: 0.41290722250564826\n",
      "f1: 0.3767117681265244\n"
     ]
    },
    {
     "name": "stderr",
     "output_type": "stream",
     "text": [
      "/share/u/troitskiid/.conda/envs/troitskiid/lib/python3.11/site-packages/sklearn/metrics/_classification.py:1344: UndefinedMetricWarning: Precision is ill-defined and being set to 0.0 in labels with no predicted samples. Use `zero_division` parameter to control this behavior.\n",
      "  _warn_prf(average, modifier, msg_start, len(result))\n",
      "/share/u/troitskiid/.conda/envs/troitskiid/lib/python3.11/site-packages/sklearn/metrics/_classification.py:1344: UndefinedMetricWarning: Recall is ill-defined and being set to 0.0 in labels with no true samples. Use `zero_division` parameter to control this behavior.\n",
      "  _warn_prf(average, modifier, msg_start, len(result))\n"
     ]
    },
    {
     "name": "stdout",
     "output_type": "stream",
     "text": [
      "precision: 0.3360875651584206\n",
      "recall: 0.4049672440460284\n",
      "f1: 0.36732628499222336\n"
     ]
    },
    {
     "name": "stderr",
     "output_type": "stream",
     "text": [
      "/share/u/troitskiid/.conda/envs/troitskiid/lib/python3.11/site-packages/sklearn/metrics/_classification.py:1344: UndefinedMetricWarning: Precision is ill-defined and being set to 0.0 in labels with no predicted samples. Use `zero_division` parameter to control this behavior.\n",
      "  _warn_prf(average, modifier, msg_start, len(result))\n",
      "/share/u/troitskiid/.conda/envs/troitskiid/lib/python3.11/site-packages/sklearn/metrics/_classification.py:1344: UndefinedMetricWarning: Recall is ill-defined and being set to 0.0 in labels with no true samples. Use `zero_division` parameter to control this behavior.\n",
      "  _warn_prf(average, modifier, msg_start, len(result))\n"
     ]
    },
    {
     "name": "stdout",
     "output_type": "stream",
     "text": [
      "precision: 0.32158544551488244\n",
      "recall: 0.39210779907522125\n",
      "f1: 0.3533623505933169\n"
     ]
    },
    {
     "name": "stderr",
     "output_type": "stream",
     "text": [
      "/share/u/troitskiid/.conda/envs/troitskiid/lib/python3.11/site-packages/sklearn/metrics/_classification.py:1344: UndefinedMetricWarning: Precision is ill-defined and being set to 0.0 in labels with no predicted samples. Use `zero_division` parameter to control this behavior.\n",
      "  _warn_prf(average, modifier, msg_start, len(result))\n",
      "/share/u/troitskiid/.conda/envs/troitskiid/lib/python3.11/site-packages/sklearn/metrics/_classification.py:1344: UndefinedMetricWarning: Recall is ill-defined and being set to 0.0 in labels with no true samples. Use `zero_division` parameter to control this behavior.\n",
      "  _warn_prf(average, modifier, msg_start, len(result))\n"
     ]
    },
    {
     "name": "stdout",
     "output_type": "stream",
     "text": [
      "precision: 0.3185117127476279\n",
      "recall: 0.38743126918187043\n",
      "f1: 0.3496072636966275\n",
      "precision: 0.31127667681087695\n",
      "recall: 0.3805318692353165\n",
      "f1: 0.34243779251692363\n"
     ]
    },
    {
     "name": "stderr",
     "output_type": "stream",
     "text": [
      "/share/u/troitskiid/.conda/envs/troitskiid/lib/python3.11/site-packages/sklearn/metrics/_classification.py:1344: UndefinedMetricWarning: Precision is ill-defined and being set to 0.0 in labels with no predicted samples. Use `zero_division` parameter to control this behavior.\n",
      "  _warn_prf(average, modifier, msg_start, len(result))\n",
      "/share/u/troitskiid/.conda/envs/troitskiid/lib/python3.11/site-packages/sklearn/metrics/_classification.py:1344: UndefinedMetricWarning: Recall is ill-defined and being set to 0.0 in labels with no true samples. Use `zero_division` parameter to control this behavior.\n",
      "  _warn_prf(average, modifier, msg_start, len(result))\n"
     ]
    }
   ],
   "source": [
    "# get metrics for each csv file in the logs folder\n",
    "\n",
    "import os\n",
    "\n",
    "# Define the directory path\n",
    "dir_path = 'logs/EleutherAI/gpt-j-6b/'\n",
    "\n",
    "# Create a DataFrame to store the results\n",
    "results_df = pd.DataFrame(columns=['directory', 'precision', 'recall', 'f1'])\n",
    "\n",
    "# Loop over all subdirectories\n",
    "for subdir in os.listdir(dir_path):\n",
    "    subdir_path = os.path.join(dir_path, subdir)\n",
    "    \n",
    "    # Check if it's a directory\n",
    "    if os.path.isdir(subdir_path):\n",
    "        csv_file = os.path.join(subdir_path, 'test_tiny_500_results.csv')\n",
    "        \n",
    "        # Check if the CSV file exists\n",
    "        if os.path.isfile(csv_file):\n",
    "            # Load the CSV file as a dataframe\n",
    "            df = pd.read_csv(csv_file)\n",
    "            \n",
    "            # Extract the required columns\n",
    "            df = df[['actual_tok_id', 'predicted_tok_id']]\n",
    "            \n",
    "            # Call the get_metrics function\n",
    "            precision, recall, f1 = get_metrics(df)\n",
    "\n",
    "            # Add the results to the DataFrame\n",
    "            results_df.loc[len(results_df)] = [subdir, precision, recall, f1]"
   ]
  },
  {
   "cell_type": "code",
   "execution_count": 13,
   "metadata": {},
   "outputs": [
    {
     "data": {
      "text/html": [
       "<div>\n",
       "<style scoped>\n",
       "    .dataframe tbody tr th:only-of-type {\n",
       "        vertical-align: middle;\n",
       "    }\n",
       "\n",
       "    .dataframe tbody tr th {\n",
       "        vertical-align: top;\n",
       "    }\n",
       "\n",
       "    .dataframe thead th {\n",
       "        text-align: right;\n",
       "    }\n",
       "</style>\n",
       "<table border=\"1\" class=\"dataframe\">\n",
       "  <thead>\n",
       "    <tr style=\"text-align: right;\">\n",
       "      <th></th>\n",
       "      <th>directory</th>\n",
       "      <th>precision</th>\n",
       "      <th>recall</th>\n",
       "      <th>f1</th>\n",
       "    </tr>\n",
       "  </thead>\n",
       "  <tbody>\n",
       "    <tr>\n",
       "      <th>0</th>\n",
       "      <td>LAYER0-TGTIDX-1-train_tiny_1000-bsz6-lr2.18697...</td>\n",
       "      <td>0.742693</td>\n",
       "      <td>0.755411</td>\n",
       "      <td>0.748998</td>\n",
       "    </tr>\n",
       "    <tr>\n",
       "      <th>2</th>\n",
       "      <td>LAYER2-TGTIDX-1-train_tiny_1000-bsz6-lr2.18697...</td>\n",
       "      <td>0.713921</td>\n",
       "      <td>0.736916</td>\n",
       "      <td>0.725236</td>\n",
       "    </tr>\n",
       "    <tr>\n",
       "      <th>1</th>\n",
       "      <td>LAYER1-TGTIDX-1-train_tiny_1000-bsz6-lr2.18697...</td>\n",
       "      <td>0.711971</td>\n",
       "      <td>0.727417</td>\n",
       "      <td>0.719611</td>\n",
       "    </tr>\n",
       "    <tr>\n",
       "      <th>3</th>\n",
       "      <td>LAYER3-TGTIDX-1-train_tiny_1000-bsz6-lr2.18697...</td>\n",
       "      <td>0.670810</td>\n",
       "      <td>0.700184</td>\n",
       "      <td>0.685182</td>\n",
       "    </tr>\n",
       "    <tr>\n",
       "      <th>4</th>\n",
       "      <td>LAYER4-TGTIDX-1-train_tiny_1000-bsz6-lr2.18697...</td>\n",
       "      <td>0.625959</td>\n",
       "      <td>0.657974</td>\n",
       "      <td>0.641567</td>\n",
       "    </tr>\n",
       "    <tr>\n",
       "      <th>5</th>\n",
       "      <td>LAYER5-TGTIDX-1-train_tiny_1000-bsz6-lr2.18697...</td>\n",
       "      <td>0.592007</td>\n",
       "      <td>0.631939</td>\n",
       "      <td>0.611322</td>\n",
       "    </tr>\n",
       "    <tr>\n",
       "      <th>6</th>\n",
       "      <td>LAYER6-TGTIDX-1-train_tiny_1000-bsz6-lr2.18697...</td>\n",
       "      <td>0.553191</td>\n",
       "      <td>0.599098</td>\n",
       "      <td>0.575230</td>\n",
       "    </tr>\n",
       "    <tr>\n",
       "      <th>7</th>\n",
       "      <td>LAYER7-TGTIDX-1-train_tiny_1000-bsz6-lr2.18697...</td>\n",
       "      <td>0.527745</td>\n",
       "      <td>0.575816</td>\n",
       "      <td>0.550734</td>\n",
       "    </tr>\n",
       "    <tr>\n",
       "      <th>8</th>\n",
       "      <td>LAYER8-TGTIDX-1-train_tiny_1000-bsz6-lr2.18697...</td>\n",
       "      <td>0.503058</td>\n",
       "      <td>0.555414</td>\n",
       "      <td>0.527941</td>\n",
       "    </tr>\n",
       "    <tr>\n",
       "      <th>9</th>\n",
       "      <td>LAYER9-TGTIDX-1-train_tiny_1000-bsz6-lr2.18697...</td>\n",
       "      <td>0.484148</td>\n",
       "      <td>0.539052</td>\n",
       "      <td>0.510127</td>\n",
       "    </tr>\n",
       "    <tr>\n",
       "      <th>10</th>\n",
       "      <td>LAYER10-TGTIDX-1-train_tiny_1000-bsz6-lr2.1869...</td>\n",
       "      <td>0.468677</td>\n",
       "      <td>0.525298</td>\n",
       "      <td>0.495375</td>\n",
       "    </tr>\n",
       "    <tr>\n",
       "      <th>11</th>\n",
       "      <td>LAYER11-TGTIDX-1-train_tiny_1000-bsz6-lr2.1869...</td>\n",
       "      <td>0.454422</td>\n",
       "      <td>0.514297</td>\n",
       "      <td>0.482509</td>\n",
       "    </tr>\n",
       "    <tr>\n",
       "      <th>12</th>\n",
       "      <td>LAYER12-TGTIDX-1-train_tiny_1000-bsz6-lr2.1869...</td>\n",
       "      <td>0.450472</td>\n",
       "      <td>0.510815</td>\n",
       "      <td>0.478749</td>\n",
       "    </tr>\n",
       "    <tr>\n",
       "      <th>13</th>\n",
       "      <td>LAYER13-TGTIDX-1-train_tiny_1000-bsz6-lr2.1869...</td>\n",
       "      <td>0.438626</td>\n",
       "      <td>0.498611</td>\n",
       "      <td>0.466699</td>\n",
       "    </tr>\n",
       "    <tr>\n",
       "      <th>14</th>\n",
       "      <td>LAYER14-TGTIDX-1-train_tiny_1000-bsz6-lr2.1869...</td>\n",
       "      <td>0.424708</td>\n",
       "      <td>0.487311</td>\n",
       "      <td>0.453860</td>\n",
       "    </tr>\n",
       "    <tr>\n",
       "      <th>15</th>\n",
       "      <td>LAYER15-TGTIDX-1-train_tiny_1000-bsz6-lr2.1869...</td>\n",
       "      <td>0.414100</td>\n",
       "      <td>0.477978</td>\n",
       "      <td>0.443752</td>\n",
       "    </tr>\n",
       "    <tr>\n",
       "      <th>16</th>\n",
       "      <td>LAYER16-TGTIDX-1-train_tiny_1000-bsz6-lr2.1869...</td>\n",
       "      <td>0.397327</td>\n",
       "      <td>0.463325</td>\n",
       "      <td>0.427795</td>\n",
       "    </tr>\n",
       "    <tr>\n",
       "      <th>17</th>\n",
       "      <td>LAYER17-TGTIDX-1-train_tiny_1000-bsz6-lr2.1869...</td>\n",
       "      <td>0.389272</td>\n",
       "      <td>0.453798</td>\n",
       "      <td>0.419065</td>\n",
       "    </tr>\n",
       "    <tr>\n",
       "      <th>18</th>\n",
       "      <td>LAYER18-TGTIDX-1-train_tiny_1000-bsz6-lr2.1869...</td>\n",
       "      <td>0.376813</td>\n",
       "      <td>0.441092</td>\n",
       "      <td>0.406427</td>\n",
       "    </tr>\n",
       "    <tr>\n",
       "      <th>20</th>\n",
       "      <td>LAYER20-TGTIDX-1-train_tiny_1000-bsz6-lr2.1869...</td>\n",
       "      <td>0.358267</td>\n",
       "      <td>0.424981</td>\n",
       "      <td>0.388783</td>\n",
       "    </tr>\n",
       "    <tr>\n",
       "      <th>21</th>\n",
       "      <td>LAYER21-TGTIDX-1-train_tiny_1000-bsz6-lr2.1869...</td>\n",
       "      <td>0.346351</td>\n",
       "      <td>0.412907</td>\n",
       "      <td>0.376712</td>\n",
       "    </tr>\n",
       "    <tr>\n",
       "      <th>22</th>\n",
       "      <td>LAYER22-TGTIDX-1-train_tiny_1000-bsz6-lr2.1869...</td>\n",
       "      <td>0.336088</td>\n",
       "      <td>0.404967</td>\n",
       "      <td>0.367326</td>\n",
       "    </tr>\n",
       "    <tr>\n",
       "      <th>19</th>\n",
       "      <td>LAYER23-TGTIDX-1-train_tiny_1000-bsz6-lr2.1869...</td>\n",
       "      <td>0.331187</td>\n",
       "      <td>0.398473</td>\n",
       "      <td>0.361728</td>\n",
       "    </tr>\n",
       "    <tr>\n",
       "      <th>23</th>\n",
       "      <td>LAYER24-TGTIDX-1-train_tiny_1000-bsz6-lr2.1869...</td>\n",
       "      <td>0.321585</td>\n",
       "      <td>0.392108</td>\n",
       "      <td>0.353362</td>\n",
       "    </tr>\n",
       "    <tr>\n",
       "      <th>24</th>\n",
       "      <td>LAYER25-TGTIDX-1-train_tiny_1000-bsz6-lr2.1869...</td>\n",
       "      <td>0.318512</td>\n",
       "      <td>0.387431</td>\n",
       "      <td>0.349607</td>\n",
       "    </tr>\n",
       "    <tr>\n",
       "      <th>25</th>\n",
       "      <td>LAYER26-TGTIDX-1-train_tiny_1000-bsz6-lr2.1869...</td>\n",
       "      <td>0.311277</td>\n",
       "      <td>0.380532</td>\n",
       "      <td>0.342438</td>\n",
       "    </tr>\n",
       "  </tbody>\n",
       "</table>\n",
       "</div>"
      ],
      "text/plain": [
       "                                            directory  precision    recall  \\\n",
       "0   LAYER0-TGTIDX-1-train_tiny_1000-bsz6-lr2.18697...   0.742693  0.755411   \n",
       "2   LAYER2-TGTIDX-1-train_tiny_1000-bsz6-lr2.18697...   0.713921  0.736916   \n",
       "1   LAYER1-TGTIDX-1-train_tiny_1000-bsz6-lr2.18697...   0.711971  0.727417   \n",
       "3   LAYER3-TGTIDX-1-train_tiny_1000-bsz6-lr2.18697...   0.670810  0.700184   \n",
       "4   LAYER4-TGTIDX-1-train_tiny_1000-bsz6-lr2.18697...   0.625959  0.657974   \n",
       "5   LAYER5-TGTIDX-1-train_tiny_1000-bsz6-lr2.18697...   0.592007  0.631939   \n",
       "6   LAYER6-TGTIDX-1-train_tiny_1000-bsz6-lr2.18697...   0.553191  0.599098   \n",
       "7   LAYER7-TGTIDX-1-train_tiny_1000-bsz6-lr2.18697...   0.527745  0.575816   \n",
       "8   LAYER8-TGTIDX-1-train_tiny_1000-bsz6-lr2.18697...   0.503058  0.555414   \n",
       "9   LAYER9-TGTIDX-1-train_tiny_1000-bsz6-lr2.18697...   0.484148  0.539052   \n",
       "10  LAYER10-TGTIDX-1-train_tiny_1000-bsz6-lr2.1869...   0.468677  0.525298   \n",
       "11  LAYER11-TGTIDX-1-train_tiny_1000-bsz6-lr2.1869...   0.454422  0.514297   \n",
       "12  LAYER12-TGTIDX-1-train_tiny_1000-bsz6-lr2.1869...   0.450472  0.510815   \n",
       "13  LAYER13-TGTIDX-1-train_tiny_1000-bsz6-lr2.1869...   0.438626  0.498611   \n",
       "14  LAYER14-TGTIDX-1-train_tiny_1000-bsz6-lr2.1869...   0.424708  0.487311   \n",
       "15  LAYER15-TGTIDX-1-train_tiny_1000-bsz6-lr2.1869...   0.414100  0.477978   \n",
       "16  LAYER16-TGTIDX-1-train_tiny_1000-bsz6-lr2.1869...   0.397327  0.463325   \n",
       "17  LAYER17-TGTIDX-1-train_tiny_1000-bsz6-lr2.1869...   0.389272  0.453798   \n",
       "18  LAYER18-TGTIDX-1-train_tiny_1000-bsz6-lr2.1869...   0.376813  0.441092   \n",
       "20  LAYER20-TGTIDX-1-train_tiny_1000-bsz6-lr2.1869...   0.358267  0.424981   \n",
       "21  LAYER21-TGTIDX-1-train_tiny_1000-bsz6-lr2.1869...   0.346351  0.412907   \n",
       "22  LAYER22-TGTIDX-1-train_tiny_1000-bsz6-lr2.1869...   0.336088  0.404967   \n",
       "19  LAYER23-TGTIDX-1-train_tiny_1000-bsz6-lr2.1869...   0.331187  0.398473   \n",
       "23  LAYER24-TGTIDX-1-train_tiny_1000-bsz6-lr2.1869...   0.321585  0.392108   \n",
       "24  LAYER25-TGTIDX-1-train_tiny_1000-bsz6-lr2.1869...   0.318512  0.387431   \n",
       "25  LAYER26-TGTIDX-1-train_tiny_1000-bsz6-lr2.1869...   0.311277  0.380532   \n",
       "\n",
       "          f1  \n",
       "0   0.748998  \n",
       "2   0.725236  \n",
       "1   0.719611  \n",
       "3   0.685182  \n",
       "4   0.641567  \n",
       "5   0.611322  \n",
       "6   0.575230  \n",
       "7   0.550734  \n",
       "8   0.527941  \n",
       "9   0.510127  \n",
       "10  0.495375  \n",
       "11  0.482509  \n",
       "12  0.478749  \n",
       "13  0.466699  \n",
       "14  0.453860  \n",
       "15  0.443752  \n",
       "16  0.427795  \n",
       "17  0.419065  \n",
       "18  0.406427  \n",
       "20  0.388783  \n",
       "21  0.376712  \n",
       "22  0.367326  \n",
       "19  0.361728  \n",
       "23  0.353362  \n",
       "24  0.349607  \n",
       "25  0.342438  "
      ]
     },
     "execution_count": 13,
     "metadata": {},
     "output_type": "execute_result"
    }
   ],
   "source": [
    "results_df # sort by f1 score ascending\n",
    "results_df.sort_values(by=['f1'], ascending=False)\n"
   ]
  },
  {
   "cell_type": "markdown",
   "metadata": {},
   "source": [
    "## Examples of erroneous predictions"
   ]
  },
  {
   "cell_type": "code",
   "execution_count": 18,
   "metadata": {},
   "outputs": [],
   "source": [
    "# load csv as pd dataframe\n",
    "df = pd.read_csv('logs/EleutherAI/gpt-j-6b/LAYER0-TGTIDX-1-train_tiny_1000-bsz6-lr2.18697-epochs14-rmnxomfa/test_tiny_500_results.csv')\n",
    "df = df[['current_tok', 'actual_tok', 'predicted_tok', 'top_1_tok', 'top_2_tok', 'top_3_tok', 'top_4_tok', 'top_5_tok']]"
   ]
  },
  {
   "cell_type": "code",
   "execution_count": 19,
   "metadata": {},
   "outputs": [
    {
     "data": {
      "text/html": [
       "<div>\n",
       "<style scoped>\n",
       "    .dataframe tbody tr th:only-of-type {\n",
       "        vertical-align: middle;\n",
       "    }\n",
       "\n",
       "    .dataframe tbody tr th {\n",
       "        vertical-align: top;\n",
       "    }\n",
       "\n",
       "    .dataframe thead th {\n",
       "        text-align: right;\n",
       "    }\n",
       "</style>\n",
       "<table border=\"1\" class=\"dataframe\">\n",
       "  <thead>\n",
       "    <tr style=\"text-align: right;\">\n",
       "      <th></th>\n",
       "      <th>current_tok</th>\n",
       "      <th>actual_tok</th>\n",
       "      <th>predicted_tok</th>\n",
       "      <th>top_1_tok</th>\n",
       "      <th>top_2_tok</th>\n",
       "      <th>top_3_tok</th>\n",
       "      <th>top_4_tok</th>\n",
       "      <th>top_5_tok</th>\n",
       "    </tr>\n",
       "  </thead>\n",
       "  <tbody>\n",
       "    <tr>\n",
       "      <th>2</th>\n",
       "      <td>Senate</td>\n",
       "      <td>–</td>\n",
       "      <td>WASHINGTON</td>\n",
       "      <td>WASHINGTON</td>\n",
       "      <td>#</td>\n",
       "      <td>!</td>\n",
       "      <td>$</td>\n",
       "      <td>\"</td>\n",
       "    </tr>\n",
       "    <tr>\n",
       "      <th>3</th>\n",
       "      <td>Judiciary</td>\n",
       "      <td>Senate</td>\n",
       "      <td>—</td>\n",
       "      <td>—</td>\n",
       "      <td>#</td>\n",
       "      <td>!</td>\n",
       "      <td>$</td>\n",
       "      <td>\"</td>\n",
       "    </tr>\n",
       "    <tr>\n",
       "      <th>6</th>\n",
       "      <td>Chuck</td>\n",
       "      <td>Chairman</td>\n",
       "      <td>Director</td>\n",
       "      <td>Director</td>\n",
       "      <td>#</td>\n",
       "      <td>!</td>\n",
       "      <td>$</td>\n",
       "      <td>\"</td>\n",
       "    </tr>\n",
       "    <tr>\n",
       "      <th>7</th>\n",
       "      <td>Grassley</td>\n",
       "      <td>Chuck</td>\n",
       "      <td>Pope</td>\n",
       "      <td>Pope</td>\n",
       "      <td>#</td>\n",
       "      <td>!</td>\n",
       "      <td>$</td>\n",
       "      <td>\"</td>\n",
       "    </tr>\n",
       "    <tr>\n",
       "      <th>8</th>\n",
       "      <td>(</td>\n",
       "      <td>Grassley</td>\n",
       "      <td>Left</td>\n",
       "      <td>Left</td>\n",
       "      <td>Google</td>\n",
       "      <td>Whole</td>\n",
       "      <td>WASHINGTON</td>\n",
       "      <td>ach</td>\n",
       "    </tr>\n",
       "    <tr>\n",
       "      <th>...</th>\n",
       "      <td>...</td>\n",
       "      <td>...</td>\n",
       "      <td>...</td>\n",
       "      <td>...</td>\n",
       "      <td>...</td>\n",
       "      <td>...</td>\n",
       "      <td>...</td>\n",
       "      <td>...</td>\n",
       "    </tr>\n",
       "    <tr>\n",
       "      <th>246951</th>\n",
       "      <td>,</td>\n",
       "      <td>rivers</td>\n",
       "      <td>events</td>\n",
       "      <td>events</td>\n",
       "      <td>sites</td>\n",
       "      <td>weather</td>\n",
       "      <td>garments</td>\n",
       "      <td>cities</td>\n",
       "    </tr>\n",
       "    <tr>\n",
       "      <th>246959</th>\n",
       "      <td>�</td>\n",
       "      <td>Wednesday</td>\n",
       "      <td>today</td>\n",
       "      <td>today</td>\n",
       "      <td>22</td>\n",
       "      <td>Beijing</td>\n",
       "      <td>R</td>\n",
       "      <td>months</td>\n",
       "    </tr>\n",
       "    <tr>\n",
       "      <th>246964</th>\n",
       "      <td>Adv</td>\n",
       "      <td>Science</td>\n",
       "      <td>Space</td>\n",
       "      <td>Space</td>\n",
       "      <td>#</td>\n",
       "      <td>!</td>\n",
       "      <td>$</td>\n",
       "      <td>\"</td>\n",
       "    </tr>\n",
       "    <tr>\n",
       "      <th>246966</th>\n",
       "      <td>.</td>\n",
       "      <td>ances</td>\n",
       "      <td>ons</td>\n",
       "      <td>ons</td>\n",
       "      <td>ides</td>\n",
       "      <td>March</td>\n",
       "      <td>August</td>\n",
       "      <td>ad</td>\n",
       "    </tr>\n",
       "    <tr>\n",
       "      <th>246970</th>\n",
       "      <td>\\n</td>\n",
       "      <td>ADVERTISEMENT</td>\n",
       "      <td>AD</td>\n",
       "      <td>AD</td>\n",
       "      <td>#</td>\n",
       "      <td>!</td>\n",
       "      <td>$</td>\n",
       "      <td>\"</td>\n",
       "    </tr>\n",
       "  </tbody>\n",
       "</table>\n",
       "<p>59869 rows × 8 columns</p>\n",
       "</div>"
      ],
      "text/plain": [
       "       current_tok     actual_tok predicted_tok   top_1_tok top_2_tok  \\\n",
       "2           Senate              –    WASHINGTON  WASHINGTON         #   \n",
       "3        Judiciary         Senate             —           —         #   \n",
       "6            Chuck       Chairman      Director    Director         #   \n",
       "7         Grassley          Chuck          Pope        Pope         #   \n",
       "8                (       Grassley          Left        Left    Google   \n",
       "...            ...            ...           ...         ...       ...   \n",
       "246951           ,         rivers        events      events     sites   \n",
       "246959           �      Wednesday         today       today        22   \n",
       "246964         Adv        Science         Space       Space         #   \n",
       "246966           .          ances           ons         ons      ides   \n",
       "246970          \\n  ADVERTISEMENT            AD          AD         #   \n",
       "\n",
       "       top_3_tok   top_4_tok top_5_tok  \n",
       "2              !           $         \"  \n",
       "3              !           $         \"  \n",
       "6              !           $         \"  \n",
       "7              !           $         \"  \n",
       "8          Whole  WASHINGTON       ach  \n",
       "...          ...         ...       ...  \n",
       "246951   weather    garments    cities  \n",
       "246959   Beijing           R    months  \n",
       "246964         !           $         \"  \n",
       "246966     March      August        ad  \n",
       "246970         !           $         \"  \n",
       "\n",
       "[59869 rows x 8 columns]"
      ]
     },
     "execution_count": 19,
     "metadata": {},
     "output_type": "execute_result"
    }
   ],
   "source": [
    "# filter for rows where actual_tok and predicted_tok are different\n",
    "df = df[df['actual_tok'] != df['predicted_tok']]\n",
    "df"
   ]
  },
  {
   "cell_type": "code",
   "execution_count": null,
   "metadata": {},
   "outputs": [],
   "source": []
  }
 ],
 "metadata": {
  "kernelspec": {
   "display_name": "base",
   "language": "python",
   "name": "python3"
  },
  "language_info": {
   "codemirror_mode": {
    "name": "ipython",
    "version": 3
   },
   "file_extension": ".py",
   "mimetype": "text/x-python",
   "name": "python",
   "nbconvert_exporter": "python",
   "pygments_lexer": "ipython3",
   "version": "3.11.3"
  }
 },
 "nbformat": 4,
 "nbformat_minor": 2
}
